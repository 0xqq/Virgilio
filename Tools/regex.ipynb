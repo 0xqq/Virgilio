{
 "cells": [
  {
   "cell_type": "markdown",
   "metadata": {},
   "source": [
    "# Regex introduction\n",
    "\n",
    "## What is a regex?\n",
    "[**Regex**](https://en.wikipedia.org/wiki/Regular_expression) stands for _regular expression_, and regular expressions are a way of writing patterns that match strings. Usually these patterns can be used to search strings for specific things, or to search and then replace certain things, etc. Regular expressions are great for string manipulation!\n",
    "\n",
    "## Why do regular expressions matter?\n",
    "From the first paragraph in this guide you might have guessed it, but regular expressions can be very useful **whenever you have to deal with strings**. From the basic renaming of a set of similarly named variables in your source code to [data preprocessing](https://github.com/clone95/Virgilio/blob/master/Specializations/HardSkills/DataPreprocessing.md). Regular expressions usually offer a concise way of expressing whatever type of things you want to find. For example, if you wanted to parse a form and look for the year that someone might have been born in, you could use something like `(19)|(20)[0-9][0-9]`. This is an example of a regular expression!\n",
    "\n",
    "## Prerequisites\n",
    "This guide does not assume any prior knowledge. Examples will be coded in Python, but mastery of the programming language is neither assumed nor needed. You are welcome to read the guide in your browser or to download it and to run the examples/toying around with them.\n",
    "\n",
    "# Index\n",
    " - [Basic regex](#Basic-regex)\n",
    "   - [Using Python re](#Using-Python-re)\n",
    " - [Matching options](#Matching-options)\n",
    " - [Matching repetitions](#Matching-repetitions)\n",
    "   - [Removing excessive spaces](#Removing-excessive-spaces)\n",
    " - [Special characters](#Special-characters)\n",
    " - [Toy project about regex](#Toy-project-with-regex)\n",
    " - [Further reading](#Further-reading)\n",
    " \n",
    "Let's dive right in!"
   ]
  },
  {
   "cell_type": "markdown",
   "metadata": {},
   "source": [
    "## Basic regex\n",
    "\n",
    "A regex is just a string written in a certain format, that can then be used by specific tools/libraries/programs to perform pattern matching on strings. Throughout this guide we will use `this formatting` to refer to regular expressions!\n",
    "\n",
    "The simplest regular expressions that one can create are just composed of regular characters. If you wanted to find all the occurrences of the word _\"Virgilio\"_ in a text, you could write the regex `Virgilio`. In this regular expression, no character is doing anything special or different. In fact, this regular expression is just a normal word. That is ok, regular expressions are strings, after all!\n",
    "\n",
    "If you were given the text _\"Project Virgilio is great\"_, you could use your `Virgilio` regex to find the occurrence of the word _\"Virgilio\"_. However, if the text was _\"Project virgilio is great\"_, then your regex wouldn't work, because regular expressions are **case-sensitive** by default and thus should match everything exactly. We say that `Virgilio` matches the sequence of characters \"Virgilio\" literally."
   ]
  },
  {
   "cell_type": "markdown",
   "metadata": {},
   "source": [
    "### Using Python re\n",
    "\n",
    "To check if our regular expressions are working well and to give you the opportunity to directly experiment with them, we will be using Python's `re` module to work with regular expressions. To use the `re` module we first import it, then define a regular expression and then use the `search()` function over a string! Pretty simple:"
   ]
  },
  {
   "cell_type": "code",
   "execution_count": 4,
   "metadata": {},
   "outputs": [
    {
     "name": "stdout",
     "output_type": "stream",
     "text": [
      "'Virgilio' is in 'Project Virgilio is great'\n",
      "'Virgilio' is not in 'Project virgilio is great'\n"
     ]
    }
   ],
   "source": [
    "import re\n",
    "\n",
    "regex = \"Virgilio\"\n",
    "str1 = \"Project Virgilio is great\"\n",
    "str2 = \"Project virgilio is great\"\n",
    "\n",
    "if re.search(regex, str1):\n",
    "    print(\"'{}' is in '{}'\".format(regex, str1))\n",
    "else:\n",
    "    print(\"'{}' is not in '{}'\".format(regex, str1))\n",
    "    \n",
    "if re.search(regex, str2):\n",
    "    print(\"'{}' is in '{}'\".format(regex, str2))\n",
    "else:\n",
    "    print(\"'{}' is not in '{}'\".format(regex, str2))"
   ]
  },
  {
   "cell_type": "markdown",
   "metadata": {},
   "source": [
    "The `re.search(regex, string)` function takes a regex as first argument and then searches for any matches over the string that was given as the second argument. However, the return value of the function is **not** a boolean, but a *match object*:"
   ]
  },
  {
   "cell_type": "code",
   "execution_count": 5,
   "metadata": {},
   "outputs": [
    {
     "name": "stdout",
     "output_type": "stream",
     "text": [
      "<re.Match object; span=(8, 16), match='Virgilio'>\n"
     ]
    }
   ],
   "source": [
    "print(re.search(regex, str1))"
   ]
  },
  {
   "cell_type": "markdown",
   "metadata": {},
   "source": [
    "Match objects have relevant information about the match(es) encountered: the start and end positions, the string that was matched, and even some other things for more complex regular expressions.\n",
    "\n",
    "We can see that in this case the match is exactly the same as the regular expression, so it may look like the `match` information inside the match object is irrelevant... but it becomes relevant as soon as we introduce options or repetitions into our regex.\n",
    "\n",
    "If no matches are found, then the `.search()` function returns `None`:"
   ]
  },
  {
   "cell_type": "code",
   "execution_count": 6,
   "metadata": {},
   "outputs": [
    {
     "name": "stdout",
     "output_type": "stream",
     "text": [
      "None\n"
     ]
    }
   ],
   "source": [
    "print(re.search(regex, str2))"
   ]
  },
  {
   "cell_type": "markdown",
   "metadata": {},
   "source": [
    "Whenever the match is not `None`, we can save the returned match object and use it to extract all the needed information!"
   ]
  },
  {
   "cell_type": "code",
   "execution_count": 9,
   "metadata": {},
   "outputs": [
    {
     "name": "stdout",
     "output_type": "stream",
     "text": [
      "The match started at pos 8 and ended at pos 16\n",
      "Or with tuple notation, the match is at (8, 16)\n",
      "And btw, the actual string matched was 'Virgilio'\n"
     ]
    }
   ],
   "source": [
    "m = re.search(regex, str1)\n",
    "if m is not None:\n",
    "    print(\"The match started at pos {} and ended at pos {}\".format(m.start(), m.end()))\n",
    "    print(\"Or with tuple notation, the match is at {}\".format(m.span()))\n",
    "    print(\"And btw, the actual string matched was '{}'\".format(m.group()))"
   ]
  },
  {
   "cell_type": "markdown",
   "metadata": {},
   "source": [
    "Now you should try to get some more matches and some fails with your own literal regular expressions. I provide three examples of my own:"
   ]
  },
  {
   "cell_type": "code",
   "execution_count": 17,
   "metadata": {},
   "outputs": [
    {
     "name": "stdout",
     "output_type": "stream",
     "text": [
      "The match is at (20, 25)\n",
      "\n",
      "Woops, did I just got the alphabet wrong..?\n",
      "\n",
      "I just matched 'a' inside 'aaaaa aaaaaa a aaa'\n"
     ]
    }
   ],
   "source": [
    "m1 = re.search(\"regex\", \"This guide is about regexes\")\n",
    "if m1 is not None:\n",
    "    print(\"The match is at {}\\n\".format(m1.span()))\n",
    "\n",
    "m2 = re.search(\"abc\", \"The alphabet goes 'abdefghij...'\")\n",
    "if m2 is None:\n",
    "    print(\"Woops, did I just got the alphabet wrong..?\\n\")\n",
    "    \n",
    "s = \"aaaaa aaaaaa a aaa\"\n",
    "m3 = re.search(\"a\", s)\n",
    "if m3 is not None:\n",
    "    print(\"I just matched '{}' inside '{}'\".format(m3.group(), s))"
   ]
  },
  {
   "cell_type": "markdown",
   "metadata": {},
   "source": [
    "## Matching options\n",
    "\n",
    "We just saw a very simple regular expression that was trying to find the word _\"Virgilio\"_ in text, but we also saw that we had zero flexibility and we couldn't even handle the fact that someone may have forgotten to capitalize the name properly, spelling it like _\"virgilio\"_ instead.\n",
    "\n",
    "To prevent problems like this, regular expressions can be written in a way to handle different possibilities. For our case, we want the first letter to be either _\"V\"_ or _\"v\"_, and that should be followed by _\"irgilio\"_.\n",
    "\n",
    "In order to handle different possibilities, we use the character `|`. For instance, `V|v` matches the letter vee, regardless of its capitalization:"
   ]
  },
  {
   "cell_type": "code",
   "execution_count": 18,
   "metadata": {},
   "outputs": [
    {
     "name": "stdout",
     "output_type": "stream",
     "text": [
      "small v found\n",
      "big V found\n"
     ]
    }
   ],
   "source": [
    "v = \"v\"\n",
    "V = \"V\"\n",
    "regex = \"v|V\"\n",
    "if re.search(regex, v):\n",
    "    print(\"small v found\")\n",
    "if re.search(regex, V):\n",
    "    print(\"big V found\")"
   ]
  },
  {
   "cell_type": "markdown",
   "metadata": {},
   "source": [
    "Now we can concatenate the regex for the first letter and the `irgilio` regex (for the rest of the name) to get a regex that matches the name of Virgilio, regardless of the capitalization of its first letter:"
   ]
  },
  {
   "cell_type": "code",
   "execution_count": 20,
   "metadata": {},
   "outputs": [
    {
     "name": "stdout",
     "output_type": "stream",
     "text": [
      "virgilio found!\n",
      "Virgilio found!\n"
     ]
    }
   ],
   "source": [
    "virgilio = \"virgilio\"\n",
    "Virgilio = \"Virgilio\"\n",
    "regex = \"V|v\" + \"irgilio\"\n",
    "if re.search(regex, virgilio):\n",
    "    print(\"virgilio found!\")\n",
    "if re.search(regex, Virgilio):\n",
    "    print(\"Virgilio found!\")"
   ]
  },
  {
   "cell_type": "markdown",
   "metadata": {},
   "source": [
    "Notice that the attribution `regex = \"V|v\" + \"irgilio\"` is equivalent to `regex = \"V|virgilio\"`, but now we have a minor problem... there are no visual clues that hint at the fact that the `|` character is there only because of the vee. You can make it more obvious by writing the regex in a slightly different way, with parenthesis: `(V|v)irgilio`"
   ]
  },
  {
   "cell_type": "code",
   "execution_count": 22,
   "metadata": {},
   "outputs": [
    {
     "name": "stdout",
     "output_type": "stream",
     "text": [
      "<re.Match object; span=(27, 35), match='virgilio'>\n"
     ]
    }
   ],
   "source": [
    "regex = \"(V|v)irgilio\"\n",
    "print(re.search(regex, \"The name of the project is virgilio, but with a big V!\"))"
   ]
  },
  {
   "cell_type": "markdown",
   "metadata": {},
   "source": [
    "Maybe you didn't even notice, but there is something else going on! Notice that we used the characteres `|`, `(` and `)` and those are not present in the word _\"virgilio\"_, but nonetheless our regex `(V|v)irgilio` matched it... that is because these three characters have special meanings in the regex world, and hence are **not** interpreted literally, contrary to what happens to any letter in `irgilio`."
   ]
  },
  {
   "cell_type": "markdown",
   "metadata": {},
   "source": [
    "## Matching repetitions\n",
    "\n",
    "To be added soon!"
   ]
  },
  {
   "cell_type": "markdown",
   "metadata": {},
   "source": [
    "### Removing excessive spaces"
   ]
  },
  {
   "cell_type": "markdown",
   "metadata": {},
   "source": [
    "## Special characters\n",
    "\n",
    "To be added soon!"
   ]
  },
  {
   "cell_type": "markdown",
   "metadata": {},
   "source": [
    "## Toy project about regex\n",
    "\n",
    "To be added soon!"
   ]
  },
  {
   "cell_type": "markdown",
   "metadata": {},
   "source": [
    "## Further reading\n",
    "For regular expressions in Python, you can take a look at the [documentation](https://docs.python.org/3/library/re.html) of the `re` module, as well as this [regex HOWTO](https://docs.python.org/3/howto/regex.html).\n",
    "\n",
    "[This](https://regexr.com/) interesting website (and [this one](https://regex101.com/) as well) provides an interface for you to type regular expressions and see what they match in a text. The tool also gives you an explanation of what your regular expression is doing.\n",
    "\n",
    "---\n",
    "If you enjoyed this guide and/or it was useful, consider leaving a star in the [Virgilio repository](https://github.com/clone95/Virgilio) and sharing it with your friends!\n",
    "\n",
    "This was brought to you by the editor of the [Mathspp Blog](https://mathspp.blogspot.com), [RojerGS](https://github.com/RojerGS)."
   ]
  },
  {
   "cell_type": "code",
   "execution_count": null,
   "metadata": {},
   "outputs": [],
   "source": []
  }
 ],
 "metadata": {
  "kernelspec": {
   "display_name": "Python 3",
   "language": "python",
   "name": "python3"
  },
  "language_info": {
   "codemirror_mode": {
    "name": "ipython",
    "version": 3
   },
   "file_extension": ".py",
   "mimetype": "text/x-python",
   "name": "python",
   "nbconvert_exporter": "python",
   "pygments_lexer": "ipython3",
   "version": "3.7.1"
  }
 },
 "nbformat": 4,
 "nbformat_minor": 2
}
